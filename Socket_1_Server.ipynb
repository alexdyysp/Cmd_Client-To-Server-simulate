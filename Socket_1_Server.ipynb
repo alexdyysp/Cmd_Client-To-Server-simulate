{
 "cells": [
  {
   "cell_type": "code",
   "execution_count": null,
   "metadata": {},
   "outputs": [
    {
     "name": "stdout",
     "output_type": "stream",
     "text": [
      "waiting for connect...\n",
      "<socket.socket fd=960, family=AddressFamily.AF_INET, type=SocketKind.SOCK_STREAM, proto=0, laddr=('127.0.0.1', 6969), raddr=('127.0.0.1', 54683)> ('127.0.0.1', 54683)\n",
      "connecting...\n"
     ]
    }
   ],
   "source": [
    "#Server\n",
    "import socket\n",
    "import os\n",
    "#\n",
    "server = socket.socket()\n",
    "server.bind((\"localhost\",6969))  #绑定要监听端口\n",
    "server.listen()  #监听\n",
    "#\n",
    "print(\"waiting for connect...\")\n",
    "while True:  #为了不停地等连接\n",
    "    conn,addr = server.accept()  #等电话打进来;conn是Client连过来，在Server端为其生成的一个连接实例\n",
    "    print(conn , addr)\n",
    "    #\n",
    "    print(\"connecting...\")\n",
    "    while True:\n",
    "        data = conn.recv(1024)  \n",
    "        print(\"recv:\",data)\n",
    "        if not data:  #强制断开\n",
    "            print(\"client has lost...\")\n",
    "            break\n",
    "        print(\"收到消息并执行:\",data)\n",
    "        cmd_res = os.popen(data.decode()).read()  #接受字符串，执行结果也是字符串\n",
    "        if len(cmd_res) == 0:\n",
    "            cmd_res = \"cmd has no output...\"\n",
    "        conn.send(str(len(cmd_res.encode(\"utf-8\"))).encode(\"utf-8\"))  #先发大小\n",
    "        conn.send(cmd_res.encode(\"utf-8\"))  #再发数据\n",
    "        print(\"send done\")\n",
    "#\n",
    "server.close()"
   ]
  },
  {
   "cell_type": "code",
   "execution_count": null,
   "metadata": {},
   "outputs": [],
   "source": []
  }
 ],
 "metadata": {
  "kernelspec": {
   "display_name": "Python 3",
   "language": "python",
   "name": "python3"
  },
  "language_info": {
   "codemirror_mode": {
    "name": "ipython",
    "version": 3
   },
   "file_extension": ".py",
   "mimetype": "text/x-python",
   "name": "python",
   "nbconvert_exporter": "python",
   "pygments_lexer": "ipython3",
   "version": "3.5.2"
  }
 },
 "nbformat": 4,
 "nbformat_minor": 2
}
